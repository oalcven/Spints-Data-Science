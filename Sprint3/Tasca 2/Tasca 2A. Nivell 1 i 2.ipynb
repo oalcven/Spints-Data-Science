{
 "cells": [
  {
   "cell_type": "markdown",
   "metadata": {},
   "source": [
    "### Nivell 1: exercicis 1, 2 i 3"
   ]
  },
  {
   "cell_type": "code",
   "execution_count": 1,
   "metadata": {
    "ExecuteTime": {
     "end_time": "2021-04-20T07:44:43.026185Z",
     "start_time": "2021-04-20T07:44:42.501155Z"
    }
   },
   "outputs": [
    {
     "name": "stdout",
     "output_type": "stream",
     "text": [
      "[2 5 3 4 2 6 5 8]\n",
      "dimensió = 1\n",
      "forma = 8\n",
      "mitjana =  4.375\n",
      "array - mitjana =  [-2.375  0.625 -1.375 -0.375 -2.375  1.625  0.625  3.625]\n",
      "[[13  5 23  3  5]\n",
      " [ 3 16 18 16 17]\n",
      " [20  5 14  1 16]\n",
      " [16 20 11 17  0]\n",
      " [ 1  2 21 19  5]]\n",
      "valor màxim de la matriu: 23\n",
      "valors màxims dels diferents eixos:\n",
      "[20 20 23 19 17]\n",
      "[23 18 20 20 21]\n"
     ]
    }
   ],
   "source": [
    "#Importem els mòduls necessaris per fer la tasca. \n",
    "import random, math\n",
    "import numpy as np\n",
    "import numpy.ma as ma\n",
    "\n",
    "#Exercici 1 \n",
    "arr = np.random.randint(10, size=8)\n",
    "print(arr)\n",
    "\n",
    "print(\"dimensió = %d\" % (arr.ndim))\n",
    "print(\"forma = %d\" % (arr.shape))\n",
    "\n",
    "#Exercici 2\n",
    "mitjana = np.mean(arr)\n",
    "print(\"mitjana = \" ,(mitjana))\n",
    "print(\"array - mitjana = \" ,(arr - mitjana))\n",
    "\n",
    "#Exercici 3 \n",
    "matriu = np.random.randint(25, size=(5,5))\n",
    "v_max = matriu.max()\n",
    "print(matriu)\n",
    "print(\"valor màxim de la matriu: %d\" % (v_max))\n",
    "\n",
    "print(\"valors màxims dels diferents eixos:\")\n",
    "print(np.amax(matriu, axis = 0))\n",
    "print(np.amax(matriu, axis = 1))\n"
   ]
  },
  {
   "cell_type": "markdown",
   "metadata": {},
   "source": [
    "### Nivell 2: exercici 4(Broadcasting)"
   ]
  },
  {
   "cell_type": "code",
   "execution_count": 8,
   "metadata": {},
   "outputs": [
    {
     "name": "stdout",
     "output_type": "stream",
     "text": [
      "matriu 2x2:\n",
      "[[0 0]\n",
      " [9 7]]\n",
      "matriu 2x2:\n",
      "[[20 37]\n",
      " [12 42]]\n",
      "suma de les matrius anteriors:\n",
      "[[20 37]\n",
      " [21 49]]\n",
      "matriu 3x3x3:\n",
      "[[[ 5 10 21]\n",
      "  [13 21 21]\n",
      "  [15  9 10]]\n",
      "\n",
      " [[ 9  9  9]\n",
      "  [20  0  6]\n",
      "  [22 10  2]]\n",
      "\n",
      " [[10  3 20]\n",
      "  [ 6 19  1]\n",
      "  [ 5  7 19]]]\n",
      "matriu 3x3x1:\n",
      "[[[ 5]\n",
      "  [ 3]\n",
      "  [ 4]]\n",
      "\n",
      " [[ 4]\n",
      "  [24]\n",
      "  [15]]\n",
      "\n",
      " [[ 7]\n",
      "  [18]\n",
      "  [ 8]]]\n",
      "resta de matrius de 3 dimensions on una de les dimensions de la matriu és d=1:\n",
      "[[[  0   5  16]\n",
      "  [ 10  18  18]\n",
      "  [ 11   5   6]]\n",
      "\n",
      " [[  5   5   5]\n",
      "  [ -4 -24 -18]\n",
      "  [  7  -5 -13]]\n",
      "\n",
      " [[  3  -4  13]\n",
      "  [-12   1 -17]\n",
      "  [ -3  -1  11]]]\n"
     ]
    }
   ],
   "source": [
    "#Exemples de broadcasting.\n",
    "#Exemple 1: 2 matrius que tenen la mateixa dimensió i forma.\n",
    "matriu_a = np.random.randint(10, size = (2, 2))\n",
    "matriu_b = np.random.randint(50, size = (2, 2))\n",
    "print(\"matriu 2x2:\")\n",
    "print(matriu_a)\n",
    "print(\"matriu 2x2:\")\n",
    "print(matriu_b)\n",
    "print(\"suma de les matrius anteriors:\")\n",
    "print(matriu_a + matriu_b)\n",
    "\n",
    "#Exemple 2: el broadcasting també és possible entre 2 matrius de diferent forma si una de les dimensions és igual a 1.\n",
    "mat_a = np.random.randint(25, size = (3,3,3))\n",
    "mat_b = np.random.randint(25, size = (3,3,1))\n",
    "print(\"matriu 3x3x3:\")\n",
    "print(mat_a)\n",
    "print(\"matriu 3x3x1:\")\n",
    "print(mat_b)\n",
    "print(\"resta de matrius de 3 dimensions on una de les dimensions de la matriu és d=1:\")\n",
    "print(mat_a - mat_b)"
   ]
  },
  {
   "cell_type": "markdown",
   "metadata": {},
   "source": [
    "### Exercicis 5, 6 i 7"
   ]
  },
  {
   "cell_type": "code",
   "execution_count": 3,
   "metadata": {
    "ExecuteTime": {
     "end_time": "2021-04-20T10:01:35.864933Z",
     "start_time": "2021-04-20T10:01:35.846932Z"
    }
   },
   "outputs": [
    {
     "name": "stdout",
     "output_type": "stream",
     "text": [
      "[[ 5 13  8]\n",
      " [ 4  0  6]\n",
      " [12  8  3]]\n",
      "columna 1 + fila 2 = [ 9  4 18]\n",
      "[[5 13 --]\n",
      " [-- -- 6]\n",
      " [-- -- 3]]\n"
     ]
    }
   ],
   "source": [
    "#Exercici 5: Generem de forma aleatoria una matriu 3x3.\n",
    "matriu = np.random.randint(15, size = (3, 3))\n",
    "print(matriu)\n",
    "\n",
    "#Accedim a la primera columna i la segona fila utilitzant la indexació\n",
    "columna_1 = matriu[0:, 0]\n",
    "fila_2 = matriu[1, 0:]\n",
    "suma = columna_1 + fila_2\n",
    "print(\"columna 1 + fila 2 =\", suma)\n",
    "\n",
    "#Exercici 6: MaskedArray\n",
    "m_mask = ma.masked_array(matriu,  mask=[(a%4)==0 for a in matriu])\n",
    "print(m_mask)\n",
    "\n",
    "\n"
   ]
  },
  {
   "cell_type": "code",
   "execution_count": null,
   "metadata": {},
   "outputs": [],
   "source": []
  }
 ],
 "metadata": {
  "kernelspec": {
   "display_name": "Python 3",
   "language": "python",
   "name": "python3"
  },
  "language_info": {
   "codemirror_mode": {
    "name": "ipython",
    "version": 3
   },
   "file_extension": ".py",
   "mimetype": "text/x-python",
   "name": "python",
   "nbconvert_exporter": "python",
   "pygments_lexer": "ipython3",
   "version": "3.8.5"
  },
  "latex_envs": {
   "LaTeX_envs_menu_present": true,
   "autoclose": false,
   "autocomplete": true,
   "bibliofile": "biblio.bib",
   "cite_by": "apalike",
   "current_citInitial": 1,
   "eqLabelWithNumbers": true,
   "eqNumInitial": 1,
   "hotkeys": {
    "equation": "Ctrl-E",
    "itemize": "Ctrl-I"
   },
   "labels_anchors": false,
   "latex_user_defs": false,
   "report_style_numbering": false,
   "user_envs_cfg": false
  }
 },
 "nbformat": 4,
 "nbformat_minor": 4
}
