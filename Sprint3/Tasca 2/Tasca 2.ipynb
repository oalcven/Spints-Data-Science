{
 "cells": [
  {
   "cell_type": "markdown",
   "metadata": {},
   "source": [
    "## Sprint 3: tasca 2\n",
    "### Exercici 1 i 2"
   ]
  },
  {
   "cell_type": "code",
   "execution_count": 18,
   "metadata": {},
   "outputs": [
    {
     "name": "stdout",
     "output_type": "stream",
     "text": [
      "febrer\n",
      "['gener', 'febrer', 'març']\n",
      "['setembre', 'octubre']\n"
     ]
    }
   ],
   "source": [
    "#Exercici 1 i 2 \n",
    "t1 = [\"gener\", \"febrer\", \"març\"]\n",
    "t2 = [\"abril\", \"maig\", \"juny\"]\n",
    "t3 = [\"juliol\", \"agost\", \"setembre\"]\n",
    "t4 = [\"octubre\", \"novembre\", \"desembre\"]\n",
    "\n",
    "#Definim una variable on accedim al segon mes del primer trimestre.\n",
    "t1_mes2 = t1[1]\n",
    "print(t1_mes2)\n",
    "\n",
    "#Accedim i imprimim directament la llista t1 que correspont als mesos del primer trimestre.\n",
    "print(t1)\n",
    "\n",
    "#Creem una nova llista que conté els mesos de setembre i octubre.\n",
    "set_oct = [t3[2], t4[0]]\n",
    "print(set_oct)\n",
    "\n",
    "\n"
   ]
  },
  {
   "cell_type": "markdown",
   "metadata": {},
   "source": [
    "### Exercici 3"
   ]
  },
  {
   "cell_type": "code",
   "execution_count": 23,
   "metadata": {},
   "outputs": [
    {
     "name": "stdout",
     "output_type": "stream",
     "text": [
      "[3, 8, 9, 0, 0, 8, 6, 4, 6, 5]\n",
      "[0, 3, 4, 5, 6, 8, 9]\n",
      "número de nombres en la llista: 10\n",
      "freqüència del nombre 3: 1\n",
      "freqüència dels nombres 3 i 4 : 2\n",
      "nombre més gran de la llista: 9\n",
      "els 3 nombres més petits de la llista: [0, 3, 4]\n",
      "rang de la llista: [0, 9]\n"
     ]
    }
   ],
   "source": [
    "import math, random\n",
    "\n",
    "#A través d'un loop for generem una llista de 10 nombres aleatoris d'un rang de 0 a 10. \n",
    "nombres = []\n",
    "for i in range(0,10):\n",
    "    nombres.append(random.randint(0,10))\n",
    "    \n",
    "print(nombres)\n",
    "\n",
    "#Obtenim la llargada de la llista per saber quants nombres hi han. \n",
    "nombres_len = len(nombres)\n",
    "\n",
    "#Definim 2 funcions per comptar la freqüència d'alguns nombres, la primera funció serà per 1 nombre i en la segona per 2.\n",
    "def comptar_num(num):\n",
    "    count = 0\n",
    "    for i in nombres:\n",
    "        if i == num:\n",
    "            count += 1\n",
    "    return count\n",
    "\n",
    "def comptar_nums(n1, n2): \n",
    "    count = 0\n",
    "    for i in nombres:\n",
    "        if i == n1 or i == n2:\n",
    "            count += 1\n",
    "    return count\n",
    "\n",
    "#Amb max() obtenim el nombre més gran de la llista.\n",
    "n_max = max(nombres)\n",
    "n_min = min(nombres)\n",
    "\n",
    "#Obtenció dels 3 nombres més petits: primer ordenem la llista de menor a major.\n",
    "nombres.sort()\n",
    "#Amb set()eliminem els nombres duplicats i finalment obtenim els 3 nombres més petits en una altra llista.\n",
    "nombres_set = list(set(nombres))\n",
    "print(nombres_set)\n",
    "nombres_petits = nombres_set[0:3]\n",
    "    \n",
    "#Declarem una nova llista que conté el rang en el qual es troben els nombres de la llista inicial.\n",
    "rang_nombres = [n_min, n_max]\n",
    "\n",
    "print(\"número de nombres en la llista: %s\" % (nombres_len))\n",
    "print(\"freqüència del nombre 3: %d\" % (comptar_num(3)))\n",
    "print(\"freqüència dels nombres 3 i 4 : %d\" % (comptar_nums(3,4)))\n",
    "print(\"nombre més gran de la llista: %d\" % (n_max))\n",
    "print(\"els 3 nombres més petits de la llista: %s\" % (nombres_petits))\n",
    "print(\"rang de la llista: %s\" % (rang_nombres))  "
   ]
  },
  {
   "cell_type": "markdown",
   "metadata": {},
   "source": [
    "### Exercici 4"
   ]
  },
  {
   "cell_type": "code",
   "execution_count": 45,
   "metadata": {},
   "outputs": [
    {
     "name": "stdout",
     "output_type": "stream",
     "text": [
      "{'Pomes': {'Qty': 5, '€': 0.42}, 'Peres': {'Qty': 3, '€': 0.66}, 'Kiwis': {'Qty': 7, '€': 0.52}}\n",
      "Cost total peres: 1.980000 €\n",
      "Quantitat total de fruites: 15\n",
      "Fruita més cara: Peres\n"
     ]
    }
   ],
   "source": [
    "compra = { \"Pomes\" : {\"Qty\": 5, \"€\": 0.42}, \"Peres\" : {\"Qty\": 3, \"€\": 0.66} }\n",
    "\n",
    "#Afegim una fruita més al diccionari\n",
    "compra.update({\"Kiwis\": {\"Qty\": 7, \"€\": 0.52}})\n",
    "print(compra)\n",
    "\n",
    "#Funció que calcula el cost d'una fruita:\n",
    "def cost_fruita(fruita):\n",
    "    clau = compra.get(fruita)\n",
    "    cost = clau.get(\"Qty\") * clau.get(\"€\")\n",
    "    return cost\n",
    "\n",
    "#Funció que calcula la quantitat total de fruites del diccionari:\n",
    "def qty_total(fruites):\n",
    "    total = 0\n",
    "    for fruita in fruites:\n",
    "        total += fruites[fruita][\"Qty\"]\n",
    "    return total\n",
    "\n",
    "#Funció per trobar la fruita amb el preu més elevat:\n",
    "def fruita_cara(fruites):\n",
    "    #Iterant el diccionari, generem una llista que conté tots els preus de les fruites.\n",
    "    preus = []\n",
    "    for fruita in fruites:\n",
    "        preus.append(fruites[fruita][\"€\"])\n",
    "    #Trobem el preu més car.\n",
    "    preu_max = max(preus)\n",
    "    #Busquem a la fruita que correspon en el diccionari.\n",
    "    fruita_cara = str\n",
    "    for fruita in fruites:\n",
    "        if fruites[fruita][\"€\"] == preu_max:\n",
    "            fruita_cara = fruita\n",
    "    return fruita_cara\n",
    "    \n",
    "\n",
    "print(\"Cost total peres: %f €\" % (cost_fruita(\"Peres\")))\n",
    "print(\"Quantitat total de fruites: %d\" % (qty_total(compra)))\n",
    "print(\"Fruita més cara: %s\" %(fruita_cara(compra)))\n"
   ]
  },
  {
   "cell_type": "code",
   "execution_count": null,
   "metadata": {},
   "outputs": [],
   "source": []
  }
 ],
 "metadata": {
  "kernelspec": {
   "display_name": "Python 3",
   "language": "python",
   "name": "python3"
  },
  "language_info": {
   "codemirror_mode": {
    "name": "ipython",
    "version": 3
   },
   "file_extension": ".py",
   "mimetype": "text/x-python",
   "name": "python",
   "nbconvert_exporter": "python",
   "pygments_lexer": "ipython3",
   "version": "3.8.5"
  },
  "latex_envs": {
   "LaTeX_envs_menu_present": true,
   "autoclose": false,
   "autocomplete": true,
   "bibliofile": "biblio.bib",
   "cite_by": "apalike",
   "current_citInitial": 1,
   "eqLabelWithNumbers": true,
   "eqNumInitial": 1,
   "hotkeys": {
    "equation": "Ctrl-E",
    "itemize": "Ctrl-I"
   },
   "labels_anchors": false,
   "latex_user_defs": false,
   "report_style_numbering": false,
   "user_envs_cfg": false
  }
 },
 "nbformat": 4,
 "nbformat_minor": 4
}
