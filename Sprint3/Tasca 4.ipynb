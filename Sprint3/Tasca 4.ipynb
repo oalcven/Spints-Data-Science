{
 "cells": [
  {
   "cell_type": "markdown",
   "metadata": {},
   "source": [
    "### Exercici 1\n",
    "Crea una funció que donat un Array d’una dimensió, et faci un resum estadístic bàsic de les dades. Si detecta que l’array té més d’una dimensió, ha de mostrar un missatge d’error."
   ]
  },
  {
   "cell_type": "code",
   "execution_count": 2,
   "metadata": {
    "ExecuteTime": {
     "end_time": "2021-04-28T09:49:21.844225Z",
     "start_time": "2021-04-28T09:49:19.887113Z"
    }
   },
   "outputs": [
    {
     "name": "stdout",
     "output_type": "stream",
     "text": [
      "{'mitjana': 499.84689, 'mediana': 500.0, 'moda': ModeResult(mode=array([506]), count=array([1098])), 'rang': [0, 999], 'desviació std': 288.539634208765}\n",
      "Error: l'array té més d'una dimensió\n"
     ]
    }
   ],
   "source": [
    "import numpy as np\n",
    "import random, math\n",
    "#Cercant en la documentació he trobat aquesta llibreria amb funcions estadístiques. \n",
    "from scipy import stats\n",
    "\n",
    "#Definim la funció que ens retornarà el resum estadístic de l'array\n",
    "def resum_est(arr):\n",
    "    resum = {}\n",
    "    #Si l'array té més d'una dimensió retornarà un missatge d'error\n",
    "    if arr.ndim > 1:\n",
    "        resum = \"Error: l'array té més d'una dimensió\"\n",
    "    #Agrupem totes les dades estadístiques en un diccionari. \n",
    "    else:\n",
    "        resum.update({\"mitjana\": np.mean(arr)})\n",
    "        resum.update({\"mediana\": np.median(arr)})\n",
    "        resum.update({\"moda\": stats.mode(arr)})\n",
    "        resum.update({\"rang\": [min(arr), max(arr)]})\n",
    "        resum.update({\"desviació std\": np.std(arr)})\n",
    "    return resum\n",
    " \n",
    "arr_1 = np.random.randint((10**3), size=(10**6))\n",
    "arr_2 = np.random.randint(16, size=(8, 8))\n",
    "print(resum_est(arr_1))\n",
    "print(resum_est(arr_2))    "
   ]
  },
  {
   "cell_type": "markdown",
   "metadata": {},
   "source": [
    "### Exercici 2\n",
    "Crea una funció que donada una taula de dues dimensions, et calculi els totals per fila i els totals per columna. "
   ]
  },
  {
   "cell_type": "code",
   "execution_count": 16,
   "metadata": {
    "ExecuteTime": {
     "end_time": "2021-04-28T10:08:27.796769Z",
     "start_time": "2021-04-28T10:08:27.781769Z"
    },
    "scrolled": true
   },
   "outputs": [
    {
     "name": "stdout",
     "output_type": "stream",
     "text": [
      "[[59 60 17 41 48 51]\n",
      " [15 17 19 60 77 76]\n",
      " [53 25 71 32 29  5]\n",
      " [53 72  0 69 78 47]\n",
      " [45 72  5 20 57 18]\n",
      " [52 70  3 33 88 52]]\n"
     ]
    }
   ],
   "source": [
    "#Generem un número aleatori entre 2 i 10 que determinarà la mida dels costats del quadrat\n",
    "n = random.randint(2,10)\n",
    "#Generem el quadrat de números aleatoris de 0 a 100\n",
    "quadrat = np.random.randint(101, size=(n,n))\n",
    "print(quadrat)"
   ]
  },
  {
   "cell_type": "markdown",
   "metadata": {},
   "source": [
    "### Exercici 3\n",
    "Crea una funció que donada una taula de dues dimensions, et calculi els totals per fila i els totals per columna. "
   ]
  },
  {
   "cell_type": "code",
   "execution_count": 17,
   "metadata": {
    "ExecuteTime": {
     "end_time": "2021-04-28T10:09:00.516641Z",
     "start_time": "2021-04-28T10:08:36.308256Z"
    }
   },
   "outputs": [
    {
     "name": "stdout",
     "output_type": "stream",
     "text": [
      "[array([277, 316, 115, 255, 377, 249]), array([276, 264, 215, 319, 217, 298])]\n",
      "Indica un 0 si vols obtenir el valor total d'una columna o un 1 per el d'una fila: 1\n",
      "Indica el número d'una columna o fila(1 - 6): 3\n",
      "valor total de la fila 3: 215\n"
     ]
    }
   ],
   "source": [
    "#Primerament, definim una funció que ens retorna una llista amb 2 arrays(total per columnes i files).\n",
    "def totals(taula):\n",
    "    tot_col = np.sum(taula, axis = 0)\n",
    "    tot_fil = np.sum(taula, axis = 1)\n",
    "    totals = [tot_col, tot_fil]\n",
    "    return totals\n",
    "\n",
    "#Cridem la funció per obtenir els totals, utilitzant la matriu de l'exercici anterior\n",
    "totals = totals(quadrat)\n",
    "print(totals)\n",
    "\n",
    "\n",
    "#Definim una funció que permet a l'usuari obtenir el valor concret d'una fila o columna mitjançant inputs\n",
    "def columnaOfila(totals, n):\n",
    "    col_fil = int(input(\"Indica un 0 si vols obtenir el valor total d'una columna o un 1 per el d'una fila: \"))\n",
    "    num = int(input(\"Indica el número d'una columna o fila(1 - %d): \" % n))\n",
    "    #Mitjançant la indexació d'arrays obtenim el valor total de la fila o columna triada per l'usuari.\n",
    "    total = totals[col_fil][num-1]\n",
    "    if col_fil == 0:\n",
    "        print(\"valor total de la columna %d: %d\" %(num, total))\n",
    "    else:\n",
    "        print(\"valor total de la fila %d: %d\" % (num, total))\n",
    "columnaOfila(totals,n)"
   ]
  },
  {
   "cell_type": "markdown",
   "metadata": {},
   "source": [
    "### Exercici 4\n",
    "Implementa manualment una funció que calculi el coeficient de correlació. Informa’t-en sobre els seus usos i interpretació.\n",
    "\n",
    "### Coeficient de Correlació de Pearson:\n",
    "El coeficient de correlació mesura la relació lineal entre dues variables sent 1 la màxima correlació positiva i -1 la màxima correlació negativa entre elles. \n",
    "\n",
    "Per fer aquest exercici he extret part de la informació dels següents enllaços: https://stackabuse.com/calculating-pearson-correlation-coefficient-in-python-with-numpy/ , https://www.superprof.es/apuntes/escolar/matematicas/estadistica/disbidimension/covarianza.html\n",
    "\n"
   ]
  },
  {
   "cell_type": "code",
   "execution_count": 25,
   "metadata": {
    "ExecuteTime": {
     "end_time": "2021-04-28T10:35:15.369717Z",
     "start_time": "2021-04-28T10:35:15.352716Z"
    }
   },
   "outputs": [
    {
     "name": "stdout",
     "output_type": "stream",
     "text": [
      "0.21395282996642676\n",
      "0.9355071411331453\n",
      "matriu de correlació:\n",
      "[[1.         0.93550714]\n",
      " [0.93550714 1.        ]]\n"
     ]
    }
   ],
   "source": [
    "#Definim una funció que calcula la correlació entre 2 variables de forma quasi manual.\n",
    "def correlacio(x, y):\n",
    "    #primerament, calculem la covariància\n",
    "    xy_cov = np.mean(x*y)-(np.mean(x)*np.mean(y))\n",
    "    #Després calculem la desviació std per cada una de les variables\n",
    "    x_sd = np.std(x)\n",
    "    y_sd = np.std(y)\n",
    "    #Finalment calculem el coeficient de correlació\n",
    "    corr = xy_cov/(x_sd * y_sd)\n",
    "    return corr\n",
    "\n",
    "#Definim diferents variables que ens serviràn d'exemple per l'exercici\n",
    "temps = np.arange(60)\n",
    "y = np.random.rand(60)\n",
    "print(correlacio(temps, y))\n",
    "\n",
    "#En aquest cas tenim les notes de mates i física d'una classe\n",
    "mat = np.array([2,3,4,4,5,6,6,7,7,8,10,10])\n",
    "fis = np.array([1,3,2,4,4,4,6,4,6,7,9,10])\n",
    "print(correlacio(mat,fis))\n",
    "#La correlació és pròxima a 1 i això ens pot indicar que els alumnes que treuen\n",
    "#bones notes a una assignatura també ho fan a l'altra i a la inversa. \n",
    "\n",
    "#El coeficient també es pot calcular de forma + eficient amb np.corrcoef() obtenint una matriu com a return.\n",
    "print(\"matriu de correlació:\")\n",
    "print(np.corrcoef(mat,fis))\n",
    "\n"
   ]
  },
  {
   "cell_type": "code",
   "execution_count": null,
   "metadata": {},
   "outputs": [],
   "source": []
  }
 ],
 "metadata": {
  "kernelspec": {
   "display_name": "Python 3",
   "language": "python",
   "name": "python3"
  },
  "language_info": {
   "codemirror_mode": {
    "name": "ipython",
    "version": 3
   },
   "file_extension": ".py",
   "mimetype": "text/x-python",
   "name": "python",
   "nbconvert_exporter": "python",
   "pygments_lexer": "ipython3",
   "version": "3.8.5"
  },
  "latex_envs": {
   "LaTeX_envs_menu_present": true,
   "autoclose": false,
   "autocomplete": true,
   "bibliofile": "biblio.bib",
   "cite_by": "apalike",
   "current_citInitial": 1,
   "eqLabelWithNumbers": true,
   "eqNumInitial": 1,
   "hotkeys": {
    "equation": "Ctrl-E",
    "itemize": "Ctrl-I"
   },
   "labels_anchors": false,
   "latex_user_defs": false,
   "report_style_numbering": false,
   "user_envs_cfg": false
  }
 },
 "nbformat": 4,
 "nbformat_minor": 4
}
