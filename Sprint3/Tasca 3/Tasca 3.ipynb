{
 "cells": [
  {
   "cell_type": "markdown",
   "metadata": {},
   "source": [
    "### Exercici 1"
   ]
  },
  {
   "cell_type": "code",
   "execution_count": 1,
   "metadata": {
    "ExecuteTime": {
     "end_time": "2021-04-22T07:29:12.801721Z",
     "start_time": "2021-04-22T07:28:59.273947Z"
    }
   },
   "outputs": [
    {
     "name": "stdout",
     "output_type": "stream",
     "text": [
      "Quants alumnes té la classe ? 3\n",
      "nota Alumne 1: 19\n",
      "dada incorrecta, introdueix una nota entre 0 i 10: 7\n",
      "nota Alumne 2: 3\n",
      "nota Alumne 3: 1\n",
      "{'suspesos': {'Alumne 2': 3.0, 'Alumne 3': 1.0}, 'aprovats': {}, 'notables': {}, 'excel·lents': {}}\n"
     ]
    }
   ],
   "source": [
    "#Definim una funció que classifiqui els alumnes d'una classe en funció de les seves notes.\n",
    "def class_notes():\n",
    "    #Creem un diccionari per cada una de les categories(suspesos, aprovats...)\n",
    "    sus = {}\n",
    "    suf = {}\n",
    "    ntb = {}\n",
    "    exl = {}\n",
    "    n_alumnes = int(input(\"Quants alumnes té la classe ? \"))\n",
    "    #Iterem per el nombre d'alumnes i establim les condicions per la classificació dels alumnes.\n",
    "    for i in range(0, n_alumnes):\n",
    "        id_al = \"Alumne \" + str(i+1)\n",
    "        nota = float(input(\"nota %s: \" % (id_al)))\n",
    "        if nota < 0 or nota > 10:\n",
    "            nota = float(input(\"dada incorrecta, introdueix una nota entre 0 i 10: \"))\n",
    "        elif nota < 5:\n",
    "            sus.update({id_al:nota})\n",
    "        elif nota >= 5 and nota < 7:\n",
    "            suf.update({id_al:nota})\n",
    "        elif nota >= 7 and nota < 9:\n",
    "            ntb.update({id_al:nota})\n",
    "        else:\n",
    "            exl.update({id_al:nota})\n",
    "    #Finalment declarem un nou diccionari que englobarà totes les categòries que a la vegada són diccionaris.\n",
    "    notes = {\"suspesos\": sus, \"aprovats\": suf, \"notables\": ntb, \"excel·lents\": exl}\n",
    "    return notes\n",
    "\n",
    "print(class_notes())\n",
    "            \n",
    "        "
   ]
  },
  {
   "cell_type": "markdown",
   "metadata": {},
   "source": [
    "### Exercici 2"
   ]
  },
  {
   "cell_type": "code",
   "execution_count": null,
   "metadata": {
    "ExecuteTime": {
     "end_time": "2021-04-21T15:15:03.030998Z",
     "start_time": "2021-04-21T15:14:57.260668Z"
    }
   },
   "outputs": [],
   "source": [
    "#Demanen dos números a l'usuari:\n",
    "num_1 = int(input(\"Indica un número enter qualsevol: \"))\n",
    "num_2 = int(input(\"Indica un número enter qualsevol: \"))\n",
    "\n",
    "#Definim una funció que compara dos números entre sí. \n",
    "def mes_gran(num1, num2):\n",
    "    if num1 > num2:\n",
    "        print(\"El primer número introduït és més gran que el segon\")\n",
    "    elif num1 == num2:\n",
    "        print(\"Els dos número són iguals\")\n",
    "    else:\n",
    "        print(\"El segon número introduït és més gran que el primer\")\n",
    "\n",
    "mes_gran(num_1, num_2)"
   ]
  },
  {
   "cell_type": "markdown",
   "metadata": {},
   "source": [
    "### Exercici 3"
   ]
  },
  {
   "cell_type": "code",
   "execution_count": null,
   "metadata": {
    "ExecuteTime": {
     "start_time": "2021-04-21T22:16:39.128Z"
    }
   },
   "outputs": [],
   "source": [
    "#Demanem els inputs necessaris a l'usuari\n",
    "nom = str(input(\"Introdueix el teu nom: \"))\n",
    "num = int(input(\"Introdueix un número: \"))\n",
    "\n",
    "def multi_nom(nom, num):\n",
    "    #si el número introduït és més gran que 0, es farà un print del nom multiplicat per aquest número. \n",
    "    if num > 0:\n",
    "        print((nom + \" \")*num)\n",
    "    #si el número és un 0 o menor, es tornarà a demanar un altre número a l'usuari i es cridarà novament a la funció. \n",
    "    else:\n",
    "        num2 = int(input(\"Introdueix un número més gran que zero: \"))\n",
    "        multi_nom(nom, num2)\n",
    "\n",
    "multi_nom(nom, num)"
   ]
  },
  {
   "cell_type": "markdown",
   "metadata": {},
   "source": [
    "### Exercici 4"
   ]
  },
  {
   "cell_type": "code",
   "execution_count": 10,
   "metadata": {
    "ExecuteTime": {
     "end_time": "2021-04-22T07:23:12.038086Z",
     "start_time": "2021-04-22T07:23:12.024085Z"
    }
   },
   "outputs": [
    {
     "name": "stdout",
     "output_type": "stream",
     "text": [
      "[0, 1, 2, 1, 0]\n",
      "És una llista simètrica i conté 5 elements\n",
      "[]\n",
      "És una llista simètrica i conté 0 elements\n"
     ]
    }
   ],
   "source": [
    "import random\n",
    "#Generem dues llistes\n",
    "llista1 = [0, 1, 2, 1, 0]\n",
    "llista2 = [random.randint(0,3) for i in range(random.randint(0,3))]\n",
    "\n",
    "#Definim una funció que compara una llista amb aquesta mateixa llista, però reversa per determinar si és simètrica.\n",
    "def simetrica(llista):\n",
    "    print(llista)\n",
    "    if llista == llista[::-1]:\n",
    "        print(\"És una llista simètrica i conté %d elements\" % len(llista))\n",
    "    else:\n",
    "        print(\"No és una llista simètrica\")\n",
    "\n",
    "simetrica(llista1)\n",
    "simetrica(llista2)\n"
   ]
  },
  {
   "cell_type": "markdown",
   "metadata": {},
   "source": [
    "### Exercici 5"
   ]
  },
  {
   "cell_type": "code",
   "execution_count": 8,
   "metadata": {
    "ExecuteTime": {
     "end_time": "2021-04-22T07:22:12.234666Z",
     "start_time": "2021-04-22T07:22:12.221665Z"
    }
   },
   "outputs": [
    {
     "name": "stdout",
     "output_type": "stream",
     "text": [
      "[6, 6, 6, 9, 6, 5]\n",
      "{5}\n",
      "Nombre de números que coincideixen amb l'índex propi de la llista:  1\n"
     ]
    }
   ],
   "source": [
    "#Generem una llista de números aleatoris\n",
    "llista = [random.randint(0,10) for i in range(random.randint(0,10))]\n",
    "print(llista)\n",
    "\n",
    "#Iterant la llista anterior, apliquem una condició per obtenir una nova llista dels números que coincideixen amb el seu índex\n",
    "llista_ind = [i for i in llista if i == llista.index(i)]\n",
    "#Fem un set() perquè no hi hagin números repetits\n",
    "llista_set = set(llista_ind)\n",
    "print(llista_set)\n",
    "print(\"Nombre de números que coincideixen amb l'índex propi de la llista: \", len(llista_set))\n"
   ]
  },
  {
   "cell_type": "code",
   "execution_count": null,
   "metadata": {},
   "outputs": [],
   "source": []
  }
 ],
 "metadata": {
  "kernelspec": {
   "display_name": "Python 3",
   "language": "python",
   "name": "python3"
  },
  "language_info": {
   "codemirror_mode": {
    "name": "ipython",
    "version": 3
   },
   "file_extension": ".py",
   "mimetype": "text/x-python",
   "name": "python",
   "nbconvert_exporter": "python",
   "pygments_lexer": "ipython3",
   "version": "3.8.5"
  },
  "latex_envs": {
   "LaTeX_envs_menu_present": true,
   "autoclose": false,
   "autocomplete": true,
   "bibliofile": "biblio.bib",
   "cite_by": "apalike",
   "current_citInitial": 1,
   "eqLabelWithNumbers": true,
   "eqNumInitial": 1,
   "hotkeys": {
    "equation": "Ctrl-E",
    "itemize": "Ctrl-I"
   },
   "labels_anchors": false,
   "latex_user_defs": false,
   "report_style_numbering": false,
   "user_envs_cfg": false
  }
 },
 "nbformat": 4,
 "nbformat_minor": 4
}
