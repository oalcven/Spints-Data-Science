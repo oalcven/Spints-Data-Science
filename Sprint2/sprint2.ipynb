{
 "cells": [
  {
   "cell_type": "code",
   "execution_count": null,
   "metadata": {},
   "outputs": [],
   "source": [
    "#Nivell 1: exercici 2\n",
    "#Exemple de programa senzill amb python que suma dos numeros introduïts per l'usuari. \n",
    "def sumar():\n",
    "    x = float(input(\"Escriu un numero: \"))\n",
    "    y = float(input(\"Escriu un altre numero: \"))\n",
    "    print(x+y)\n",
    "\n",
    "sumar()"
   ]
  },
  {
   "cell_type": "markdown",
   "metadata": {},
   "source": [
    "# Nivell 1\n",
    "## Exercici 3: \n",
    "### Prova per crear títols, llistes, canviar l'estil de lletra, inserir imatges...\n",
    "llista:\n",
    "* casa\n",
    "* cotxe\n",
    "* carrer\n",
    "* plaça\n",
    "\n",
    "<img src='python-programming.jpg' width=\"250\" heigth=\"250\">\n",
    "\n",
    "\n",
    "\n"
   ]
  }
 ],
 "metadata": {
  "kernelspec": {
   "display_name": "Python 3",
   "language": "python",
   "name": "python3"
  },
  "language_info": {
   "codemirror_mode": {
    "name": "ipython",
    "version": 3
   },
   "file_extension": ".py",
   "mimetype": "text/x-python",
   "name": "python",
   "nbconvert_exporter": "python",
   "pygments_lexer": "ipython3",
   "version": "3.8.5"
  },
  "latex_envs": {
   "LaTeX_envs_menu_present": true,
   "autoclose": false,
   "autocomplete": true,
   "bibliofile": "biblio.bib",
   "cite_by": "apalike",
   "current_citInitial": 1,
   "eqLabelWithNumbers": true,
   "eqNumInitial": 1,
   "hotkeys": {
    "equation": "Ctrl-E",
    "itemize": "Ctrl-I"
   },
   "labels_anchors": false,
   "latex_user_defs": false,
   "report_style_numbering": false,
   "user_envs_cfg": false
  }
 },
 "nbformat": 4,
 "nbformat_minor": 4
}
